{
 "cells": [
  {
   "cell_type": "markdown",
   "metadata": {},
   "source": [
    "# Phase 3 Code Challenge Review\n",
    "\n",
    "Made using resources from the Seattle team - thanks y'all."
   ]
  },
  {
   "cell_type": "markdown",
   "metadata": {},
   "source": [
    "## Overview\n",
    "\n",
    "* Gradient Descent\n",
    "* Logistic Regression\n",
    "* Classification Metrics\n",
    "* Decision Trees"
   ]
  },
  {
   "cell_type": "code",
   "execution_count": 26,
   "metadata": {},
   "outputs": [],
   "source": [
    "# Imports\n",
    "import pandas as pd\n",
    "import numpy as np\n",
    "\n",
    "import matplotlib.pyplot as plt\n",
    "import seaborn as sns\n",
    "\n",
    "from sklearn.preprocessing import StandardScaler\n",
    "from sklearn.linear_model import LogisticRegression\n",
    "from sklearn.tree import DecisionTreeClassifier, plot_tree\n",
    "from sklearn.model_selection import train_test_split\n",
    "from sklearn.metrics import accuracy_score, recall_score, precision_score, f1_score\n",
    "from sklearn.metrics import plot_confusion_matrix, classification_report\n",
    "from sklearn.metrics import roc_auc_score, plot_roc_curve"
   ]
  },
  {
   "cell_type": "code",
   "execution_count": null,
   "metadata": {},
   "outputs": [],
   "source": [
    "# from src.call import call_on_students"
   ]
  },
  {
   "cell_type": "markdown",
   "metadata": {},
   "source": [
    "## Part 1: Gradient Descent"
   ]
  },
  {
   "cell_type": "markdown",
   "metadata": {},
   "source": [
    "### Set Up"
   ]
  },
  {
   "cell_type": "code",
   "execution_count": 2,
   "metadata": {},
   "outputs": [],
   "source": [
    "# Grab the data from 'auto-mpg.csv'\n",
    "mpg_df = pd.read_csv(\"data/auto-mpg.csv\")"
   ]
  },
  {
   "cell_type": "code",
   "execution_count": 3,
   "metadata": {},
   "outputs": [
    {
     "data": {
      "text/html": [
       "<div>\n",
       "<style scoped>\n",
       "    .dataframe tbody tr th:only-of-type {\n",
       "        vertical-align: middle;\n",
       "    }\n",
       "\n",
       "    .dataframe tbody tr th {\n",
       "        vertical-align: top;\n",
       "    }\n",
       "\n",
       "    .dataframe thead th {\n",
       "        text-align: right;\n",
       "    }\n",
       "</style>\n",
       "<table border=\"1\" class=\"dataframe\">\n",
       "  <thead>\n",
       "    <tr style=\"text-align: right;\">\n",
       "      <th></th>\n",
       "      <th>mpg</th>\n",
       "      <th>cylinders</th>\n",
       "      <th>displacement</th>\n",
       "      <th>horsepower</th>\n",
       "      <th>weight</th>\n",
       "      <th>acceleration</th>\n",
       "      <th>model year</th>\n",
       "      <th>origin</th>\n",
       "      <th>car name</th>\n",
       "    </tr>\n",
       "  </thead>\n",
       "  <tbody>\n",
       "    <tr>\n",
       "      <th>0</th>\n",
       "      <td>18.0</td>\n",
       "      <td>8</td>\n",
       "      <td>307.0</td>\n",
       "      <td>130</td>\n",
       "      <td>3504</td>\n",
       "      <td>12.0</td>\n",
       "      <td>70</td>\n",
       "      <td>1</td>\n",
       "      <td>chevrolet chevelle malibu</td>\n",
       "    </tr>\n",
       "    <tr>\n",
       "      <th>1</th>\n",
       "      <td>15.0</td>\n",
       "      <td>8</td>\n",
       "      <td>350.0</td>\n",
       "      <td>165</td>\n",
       "      <td>3693</td>\n",
       "      <td>11.5</td>\n",
       "      <td>70</td>\n",
       "      <td>1</td>\n",
       "      <td>buick skylark 320</td>\n",
       "    </tr>\n",
       "    <tr>\n",
       "      <th>2</th>\n",
       "      <td>18.0</td>\n",
       "      <td>8</td>\n",
       "      <td>318.0</td>\n",
       "      <td>150</td>\n",
       "      <td>3436</td>\n",
       "      <td>11.0</td>\n",
       "      <td>70</td>\n",
       "      <td>1</td>\n",
       "      <td>plymouth satellite</td>\n",
       "    </tr>\n",
       "    <tr>\n",
       "      <th>3</th>\n",
       "      <td>16.0</td>\n",
       "      <td>8</td>\n",
       "      <td>304.0</td>\n",
       "      <td>150</td>\n",
       "      <td>3433</td>\n",
       "      <td>12.0</td>\n",
       "      <td>70</td>\n",
       "      <td>1</td>\n",
       "      <td>amc rebel sst</td>\n",
       "    </tr>\n",
       "    <tr>\n",
       "      <th>4</th>\n",
       "      <td>17.0</td>\n",
       "      <td>8</td>\n",
       "      <td>302.0</td>\n",
       "      <td>140</td>\n",
       "      <td>3449</td>\n",
       "      <td>10.5</td>\n",
       "      <td>70</td>\n",
       "      <td>1</td>\n",
       "      <td>ford torino</td>\n",
       "    </tr>\n",
       "  </tbody>\n",
       "</table>\n",
       "</div>"
      ],
      "text/plain": [
       "    mpg  cylinders  displacement  horsepower  weight  acceleration  \\\n",
       "0  18.0          8         307.0         130    3504          12.0   \n",
       "1  15.0          8         350.0         165    3693          11.5   \n",
       "2  18.0          8         318.0         150    3436          11.0   \n",
       "3  16.0          8         304.0         150    3433          12.0   \n",
       "4  17.0          8         302.0         140    3449          10.5   \n",
       "\n",
       "   model year  origin                   car name  \n",
       "0          70       1  chevrolet chevelle malibu  \n",
       "1          70       1          buick skylark 320  \n",
       "2          70       1         plymouth satellite  \n",
       "3          70       1              amc rebel sst  \n",
       "4          70       1                ford torino  "
      ]
     },
     "execution_count": 3,
     "metadata": {},
     "output_type": "execute_result"
    }
   ],
   "source": [
    "# Explore the data\n",
    "mpg_df.head()"
   ]
  },
  {
   "cell_type": "code",
   "execution_count": 4,
   "metadata": {},
   "outputs": [
    {
     "data": {
      "image/png": "[encoded data removed]",
      "text/plain": [
       "<Figure size 576x432 with 1 Axes>"
      ]
     },
     "metadata": {
      "needs_background": "light"
     },
     "output_type": "display_data"
    }
   ],
   "source": [
    "# Let's plot a simple linear regression line using just the horsepower column\n",
    "plt.figure(figsize=(8, 6))\n",
    "sns.regplot(x='horsepower', y='mpg', data=mpg_df, line_kws={\"color\":\"orange\"})\n",
    "plt.title('Relationship Between Horsepower and MPG')\n",
    "plt.xlim(0, 250)\n",
    "plt.show()"
   ]
  },
  {
   "cell_type": "markdown",
   "metadata": {},
   "source": [
    "The above graph shows an approximate best fit line for the relationship between `horsepower` and `mpg` in our data.\n"
   ]
  },
  {
   "cell_type": "markdown",
   "metadata": {},
   "source": [
    "### 1) Describe the below chart: What is it showing? What does it tell us?\n",
    "\n",
    "![Slope-RSS relationship image](images/slope-rss-relationship.png)"
   ]
  },
  {
   "cell_type": "code",
   "execution_count": null,
   "metadata": {},
   "outputs": [],
   "source": [
    "# call_on_students(1)"
   ]
  },
  {
   "cell_type": "markdown",
   "metadata": {},
   "source": [
    "#### Answer: \n",
    "\n",
    "- rss looks at errors between data point and the prediction (line in horspeoower vs mpg graph)\n",
    "- slope is the slope of the line\n",
    "- bottom point in curve is where chnage is zero - that is the optimal slope (around -.157), indicates minimum errors occur at that point\n",
    "\n",
    "- **lowest point on curve is best rss, therefore best slope (around -.157)\n",
    "\n",
    "- this can also be done with MSE or RSE\n",
    "\n"
   ]
  },
  {
   "cell_type": "markdown",
   "metadata": {},
   "source": [
    "### 2) Imagine that you're starting at a slope towards the top upper left corner. Using Zoom's annotate feature, demonstrate how gradient descent would work "
   ]
  },
  {
   "cell_type": "code",
   "execution_count": null,
   "metadata": {},
   "outputs": [],
   "source": [
    "# call_on_students(1)"
   ]
  },
  {
   "cell_type": "markdown",
   "metadata": {},
   "source": [
    "- will start at top left and go down 1 step at a time until finding lowest point\n",
    "- it will only go back up (past the minimum) if step size is too large\n",
    "-gradient descent takes higher step at the start and gets smaller as you get closer to zero"
   ]
  },
  {
   "cell_type": "markdown",
   "metadata": {},
   "source": [
    "### 3) What is a step size when talking about gradient descent? How does learning rate regulate step size?"
   ]
  },
  {
   "cell_type": "code",
   "execution_count": null,
   "metadata": {},
   "outputs": [],
   "source": [
    "# call_on_students(1)"
   ]
  },
  {
   "cell_type": "markdown",
   "metadata": {},
   "source": [
    "#### Answer: \n",
    "\n",
    "- step size is how far/large a step to takel; largest at top becasue thats where deriavtive is the largest; step size decreases as derivative gets ssmaller/ approaches the minimum point on curve\n",
    "-learning rate is a proportion of the derivate to take\n",
    "- step size based on partial derivative of curve; how much of that partial deriv to take is the step size: \n",
    "learning rate helps to decrease the step size but learning rate is a constant - tells us how much of a step size to take\n"
   ]
  },
  {
   "cell_type": "markdown",
   "metadata": {},
   "source": [
    "## Part 2: Logistic Regression"
   ]
  },
  {
   "cell_type": "markdown",
   "metadata": {},
   "source": [
    "### 4) Describe a logistic regression model:\n",
    "\n",
    "- What kind of target is a logistic regression model used for?\n",
    "- What are the predictions that a logistic regression model outputs?\n",
    "- How is it different from linear regression?\n",
    "- Is it a parametric or non-parametric model?"
   ]
  },
  {
   "cell_type": "code",
   "execution_count": null,
   "metadata": {},
   "outputs": [],
   "source": [
    "# call_on_students(1)"
   ]
  },
  {
   "cell_type": "markdown",
   "metadata": {},
   "source": [
    "#### Answer: \n",
    "\n",
    "- classes, categorical, distinct\n",
    "- outputs probabilities of belongign to a specific class (prob is between 0 and 1) output is the log odds\n",
    "- logreg output is discrete/categorical, which is different from lin reg where output is continuous\n",
    "-both logreg and linreg is parametric - have coefficients; difference is logistic coeeficient represents an increase in the log odds where lin coefficients represent a an increase in the target\n",
    "- non parametric (like knn) has no parameters\n"
   ]
  },
  {
   "cell_type": "markdown",
   "metadata": {},
   "source": [
    "### 5) Compare a logistic regression model to any of the other model types we've learned:\n",
    "\n",
    "- List one benefit of logistic regression when compared to the other model type\n",
    "- List one reason the other model type might be more useful"
   ]
  },
  {
   "cell_type": "code",
   "execution_count": null,
   "metadata": {},
   "outputs": [],
   "source": [
    "# call_on_students(1)"
   ]
  },
  {
   "cell_type": "markdown",
   "metadata": {},
   "source": [
    "#### Answer: \n",
    "\n",
    "- log reg compared with other classficiation models: \n",
    "\n",
    "pro: \n",
    "- advantage is it's less prone to overfitting\n",
    "- more interpretable than other classificationj models\n",
    "- \n",
    "\n",
    "con: \n",
    " - log reg doesnt handle imbalanced data as well\n",
    "  - log reg doesnt deal with multicollinearity well at all\n",
    "  -\n"
   ]
  },
  {
   "cell_type": "markdown",
   "metadata": {},
   "source": [
    "## Part 3: Logistic Regression and Classification Metrics with Code\n",
    "\n",
    "### Set Up"
   ]
  },
  {
   "cell_type": "code",
   "execution_count": 5,
   "metadata": {},
   "outputs": [],
   "source": [
    "# Let's use the same data, but now with a classification target\n",
    "mpg_class = pd.read_csv('data/auto-mpg-classification.csv')"
   ]
  },
  {
   "cell_type": "code",
   "execution_count": 6,
   "metadata": {},
   "outputs": [
    {
     "data": {
      "text/html": [
       "<div>\n",
       "<style scoped>\n",
       "    .dataframe tbody tr th:only-of-type {\n",
       "        vertical-align: middle;\n",
       "    }\n",
       "\n",
       "    .dataframe tbody tr th {\n",
       "        vertical-align: top;\n",
       "    }\n",
       "\n",
       "    .dataframe thead th {\n",
       "        text-align: right;\n",
       "    }\n",
       "</style>\n",
       "<table border=\"1\" class=\"dataframe\">\n",
       "  <thead>\n",
       "    <tr style=\"text-align: right;\">\n",
       "      <th></th>\n",
       "      <th>cylinders</th>\n",
       "      <th>displacement</th>\n",
       "      <th>horsepower</th>\n",
       "      <th>weight</th>\n",
       "      <th>acceleration</th>\n",
       "      <th>model year</th>\n",
       "      <th>origin</th>\n",
       "      <th>target</th>\n",
       "    </tr>\n",
       "  </thead>\n",
       "  <tbody>\n",
       "    <tr>\n",
       "      <th>0</th>\n",
       "      <td>8</td>\n",
       "      <td>307.0</td>\n",
       "      <td>130</td>\n",
       "      <td>3504</td>\n",
       "      <td>12.0</td>\n",
       "      <td>70</td>\n",
       "      <td>1</td>\n",
       "      <td>0</td>\n",
       "    </tr>\n",
       "    <tr>\n",
       "      <th>1</th>\n",
       "      <td>8</td>\n",
       "      <td>350.0</td>\n",
       "      <td>165</td>\n",
       "      <td>3693</td>\n",
       "      <td>11.5</td>\n",
       "      <td>70</td>\n",
       "      <td>1</td>\n",
       "      <td>1</td>\n",
       "    </tr>\n",
       "    <tr>\n",
       "      <th>2</th>\n",
       "      <td>8</td>\n",
       "      <td>318.0</td>\n",
       "      <td>150</td>\n",
       "      <td>3436</td>\n",
       "      <td>11.0</td>\n",
       "      <td>70</td>\n",
       "      <td>1</td>\n",
       "      <td>0</td>\n",
       "    </tr>\n",
       "    <tr>\n",
       "      <th>3</th>\n",
       "      <td>8</td>\n",
       "      <td>304.0</td>\n",
       "      <td>150</td>\n",
       "      <td>3433</td>\n",
       "      <td>12.0</td>\n",
       "      <td>70</td>\n",
       "      <td>1</td>\n",
       "      <td>1</td>\n",
       "    </tr>\n",
       "    <tr>\n",
       "      <th>4</th>\n",
       "      <td>8</td>\n",
       "      <td>302.0</td>\n",
       "      <td>140</td>\n",
       "      <td>3449</td>\n",
       "      <td>10.5</td>\n",
       "      <td>70</td>\n",
       "      <td>1</td>\n",
       "      <td>1</td>\n",
       "    </tr>\n",
       "  </tbody>\n",
       "</table>\n",
       "</div>"
      ],
      "text/plain": [
       "   cylinders  displacement  horsepower  weight  acceleration  model year  \\\n",
       "0          8         307.0         130    3504          12.0          70   \n",
       "1          8         350.0         165    3693          11.5          70   \n",
       "2          8         318.0         150    3436          11.0          70   \n",
       "3          8         304.0         150    3433          12.0          70   \n",
       "4          8         302.0         140    3449          10.5          70   \n",
       "\n",
       "   origin  target  \n",
       "0       1       0  \n",
       "1       1       1  \n",
       "2       1       0  \n",
       "3       1       1  \n",
       "4       1       1  "
      ]
     },
     "execution_count": 6,
     "metadata": {},
     "output_type": "execute_result"
    }
   ],
   "source": [
    "# Check this new dataframe out\n",
    "mpg_class.head()"
   ]
  },
  {
   "cell_type": "markdown",
   "metadata": {},
   "source": [
    "### 6) Prepare our data for modeling:\n",
    "\n",
    "1. Perform a train/test split\n",
    "2. Scale the inputs\n"
   ]
  },
  {
   "cell_type": "code",
   "execution_count": null,
   "metadata": {},
   "outputs": [],
   "source": [
    "# call_on_students(1)"
   ]
  },
  {
   "cell_type": "code",
   "execution_count": 8,
   "metadata": {},
   "outputs": [],
   "source": [
    "# Train-test split\n",
    "# Set test_size=0.33 and random_state=42\n",
    "\n",
    "X = mpg_class.drop('target', axis=1)\n",
    "y = mpg_class.target\n",
    "\n",
    "X_train, X_test, y_train, y_test = train_test_split(X, y, test_size= 0.33, random_state=42)\n"
   ]
  },
  {
   "cell_type": "code",
   "execution_count": 9,
   "metadata": {},
   "outputs": [],
   "source": [
    "# Scale the data\n",
    "\n",
    "scaler = StandardScaler()\n",
    "X_train_scaled = scaler.fit_transform(X_train)\n",
    "X_test_scaled = scaler.transform(X_test)"
   ]
  },
  {
   "cell_type": "markdown",
   "metadata": {},
   "source": [
    "### 7) Explore the `target` column and our model-less baseline\n",
    "\n",
    "1. What is the breakdown of the `target` column in our training data?\n",
    "2. What would a model-less baseline look like in this context?\n",
    "3. How accurate would that model-less understanding be on our test data?"
   ]
  },
  {
   "cell_type": "code",
   "execution_count": null,
   "metadata": {},
   "outputs": [],
   "source": [
    "# call_on_students(1)"
   ]
  },
  {
   "cell_type": "markdown",
   "metadata": {},
   "source": [
    "#### Part 1: explore the target column breakdown in train data"
   ]
  },
  {
   "cell_type": "code",
   "execution_count": 10,
   "metadata": {},
   "outputs": [
    {
     "data": {
      "text/plain": [
       "0    0.744275\n",
       "1    0.255725\n",
       "Name: target, dtype: float64"
      ]
     },
     "execution_count": 10,
     "metadata": {},
     "output_type": "execute_result"
    }
   ],
   "source": [
    "# Code to explore\n",
    "\n",
    "y_train.value_counts(normalize=True)\n"
   ]
  },
  {
   "cell_type": "markdown",
   "metadata": {},
   "source": [
    "#### Answer:\n",
    "\n",
    "- baseline predicts the majority class (0 in this case) ; will yield 74.4% accuracy\n"
   ]
  },
  {
   "cell_type": "markdown",
   "metadata": {},
   "source": [
    "#### Part 2: What would a model-less baseline look like in this context?\n",
    "\n",
    "#### Answer:\n",
    "\n",
    "- 74.4%\n"
   ]
  },
  {
   "cell_type": "markdown",
   "metadata": {},
   "source": [
    "#### Part 3: How accurate would that baseline be on test data?\n"
   ]
  },
  {
   "cell_type": "code",
   "execution_count": 11,
   "metadata": {
    "scrolled": true
   },
   "outputs": [
    {
     "data": {
      "text/plain": [
       "0    0.753846\n",
       "1    0.246154\n",
       "Name: target, dtype: float64"
      ]
     },
     "execution_count": 11,
     "metadata": {},
     "output_type": "execute_result"
    }
   ],
   "source": [
    "# Code to find the answer\n",
    "y_test.value_counts(normalize=True)"
   ]
  },
  {
   "cell_type": "markdown",
   "metadata": {},
   "source": [
    "#### Answer:\n",
    "\n",
    "- pretty accurate\n"
   ]
  },
  {
   "cell_type": "markdown",
   "metadata": {},
   "source": [
    "### 8) What is one problem you could foresee based on this breakdown, and what is one strategy you could employ to address that problem?"
   ]
  },
  {
   "cell_type": "code",
   "execution_count": null,
   "metadata": {},
   "outputs": [],
   "source": [
    "# call_on_students(1)"
   ]
  },
  {
   "cell_type": "markdown",
   "metadata": {},
   "source": [
    "#### Answer:\n",
    "\n",
    "- not actually imbalanced in this example but lets pretend it is):\n",
    "- imbalanced data: rule of thumb is around 90-10 (% of data in each category) (not actually imbalanced in this example but lets pretend it is):\n",
    "- could use SMOTE to synthetically oversample the minority class\n",
    "-undersampling not recommended in this case due to not enough data (under 10k) - you dont want to drop data when theres not enouhg to begin with\n",
    "- can also use weighted sampling"
   ]
  },
  {
   "cell_type": "markdown",
   "metadata": {},
   "source": [
    "### 9) Fit a logistic regression model, and plot a confusion matrix of the results on our test set"
   ]
  },
  {
   "cell_type": "code",
   "execution_count": null,
   "metadata": {},
   "outputs": [],
   "source": [
    "# call_on_students(1)"
   ]
  },
  {
   "cell_type": "code",
   "execution_count": 12,
   "metadata": {},
   "outputs": [
    {
     "data": {
      "text/plain": [
       "LogisticRegression(random_state=42)"
      ]
     },
     "execution_count": 12,
     "metadata": {},
     "output_type": "execute_result"
    }
   ],
   "source": [
    "# Fit a logistic regression model\n",
    "# Name the model `logreg` and set random_state = 42\n",
    "logreg = LogisticRegression(random_state=42)\n",
    "logreg.fit(X_train_scaled, y_train)\n"
   ]
  },
  {
   "cell_type": "code",
   "execution_count": 13,
   "metadata": {},
   "outputs": [
    {
     "data": {
      "text/plain": [
       "<sklearn.metrics._plot.confusion_matrix.ConfusionMatrixDisplay at 0x24a5d570b50>"
      ]
     },
     "execution_count": 13,
     "metadata": {},
     "output_type": "execute_result"
    },
    {
     "data": {
      "image/png": "[encoded data removed]",
      "text/plain": [
       "<Figure size 432x288 with 2 Axes>"
      ]
     },
     "metadata": {
      "needs_background": "light"
     },
     "output_type": "display_data"
    }
   ],
   "source": [
    "# Plot a confusion matrix on the test data\n",
    "plot_confusion_matrix(logreg, X_test_scaled, y_test)"
   ]
  },
  {
   "cell_type": "markdown",
   "metadata": {},
   "source": [
    "### 10) Calculate the accuracy, precision, recall and f1-score for the test set\n",
    "\n",
    "You can use the confusion matrix above, or sklearn functions"
   ]
  },
  {
   "cell_type": "code",
   "execution_count": null,
   "metadata": {},
   "outputs": [],
   "source": [
    "truepos = 23\n",
    "trueneg = 97\n",
    "falsepos = 1\n",
    "falseneg = 9"
   ]
  },
  {
   "cell_type": "code",
   "execution_count": 14,
   "metadata": {},
   "outputs": [],
   "source": [
    "y_pred = logreg.predict(X_test_scaled)"
   ]
  },
  {
   "cell_type": "code",
   "execution_count": 15,
   "metadata": {},
   "outputs": [
    {
     "data": {
      "text/plain": [
       "array([0, 0, 0, 0, 0, 0, 1, 0, 0, 0, 1, 0, 1, 0, 0, 0, 0, 0, 0, 0, 0, 0,\n",
       "       0, 1, 0, 0, 0, 0, 0, 0, 1, 0, 0, 0, 1, 0, 1, 0, 1, 1, 1, 0, 0, 0,\n",
       "       1, 1, 0, 0, 0, 0, 1, 0, 0, 0, 0, 0, 0, 0, 0, 0, 1, 0, 0, 0, 0, 0,\n",
       "       0, 0, 0, 1, 0, 1, 0, 0, 0, 0, 1, 1, 0, 0, 0, 0, 1, 0, 1, 0, 0, 0,\n",
       "       1, 0, 0, 0, 0, 0, 0, 0, 0, 1, 0, 0, 1, 0, 1, 0, 0, 0, 0, 0, 0, 0,\n",
       "       0, 0, 0, 0, 0, 0, 0, 0, 0, 0, 0, 0, 0, 0, 0, 0, 0, 0, 0, 0],\n",
       "      dtype=int64)"
      ]
     },
     "execution_count": 15,
     "metadata": {},
     "output_type": "execute_result"
    }
   ],
   "source": [
    "y_pred"
   ]
  },
  {
   "cell_type": "code",
   "execution_count": null,
   "metadata": {},
   "outputs": [],
   "source": [
    "# call_on_students(1)"
   ]
  },
  {
   "cell_type": "code",
   "execution_count": 16,
   "metadata": {
    "scrolled": true
   },
   "outputs": [
    {
     "data": {
      "text/plain": [
       "0.9230769230769231"
      ]
     },
     "execution_count": 16,
     "metadata": {},
     "output_type": "execute_result"
    }
   ],
   "source": [
    "# Accuracy\n",
    "accuracy_score(y_test, y_pred)"
   ]
  },
  {
   "cell_type": "code",
   "execution_count": null,
   "metadata": {},
   "outputs": [],
   "source": [
    "# or by hand: (truepos + trueneg) / (truepos + trueneg + falsepos + falseneg)"
   ]
  },
  {
   "cell_type": "code",
   "execution_count": 17,
   "metadata": {},
   "outputs": [
    {
     "data": {
      "text/plain": [
       "0.9230769230769231"
      ]
     },
     "execution_count": 17,
     "metadata": {},
     "output_type": "execute_result"
    }
   ],
   "source": [
    "logreg.score(X_test_scaled, y_test)"
   ]
  },
  {
   "cell_type": "code",
   "execution_count": 18,
   "metadata": {},
   "outputs": [
    {
     "data": {
      "text/plain": [
       "0.9583333333333334"
      ]
     },
     "execution_count": 18,
     "metadata": {},
     "output_type": "execute_result"
    }
   ],
   "source": [
    "# Precision\n",
    "\n",
    "precision_score(y_test, y_pred)"
   ]
  },
  {
   "cell_type": "code",
   "execution_count": null,
   "metadata": {},
   "outputs": [],
   "source": [
    "#precision by hand: (truepos) / (truepos + falsepos)"
   ]
  },
  {
   "cell_type": "code",
   "execution_count": 19,
   "metadata": {
    "scrolled": true
   },
   "outputs": [
    {
     "data": {
      "text/plain": [
       "0.71875"
      ]
     },
     "execution_count": 19,
     "metadata": {},
     "output_type": "execute_result"
    }
   ],
   "source": [
    "# Recall\n",
    "recall_score(y_test, y_pred)"
   ]
  },
  {
   "cell_type": "code",
   "execution_count": null,
   "metadata": {},
   "outputs": [],
   "source": [
    "#recall by hand: (truepos) / (truepos + falseneg)"
   ]
  },
  {
   "cell_type": "code",
   "execution_count": 20,
   "metadata": {
    "scrolled": true
   },
   "outputs": [
    {
     "data": {
      "text/plain": [
       "0.8214285714285714"
      ]
     },
     "execution_count": 20,
     "metadata": {},
     "output_type": "execute_result"
    }
   ],
   "source": [
    "# F1-Score\n",
    "f1_score(y_test, y_pred)"
   ]
  },
  {
   "cell_type": "code",
   "execution_count": null,
   "metadata": {},
   "outputs": [],
   "source": [
    "# f1 by hand: 2* "
   ]
  },
  {
   "cell_type": "markdown",
   "metadata": {},
   "source": [
    "### 11) Calculate the ROC-AUC on the test set, and plot the ROC curve\n",
    "\n",
    "For this you'll definitely want to use the sklearn functions!"
   ]
  },
  {
   "cell_type": "code",
   "execution_count": null,
   "metadata": {},
   "outputs": [],
   "source": [
    "# call_on_students(1)"
   ]
  },
  {
   "cell_type": "code",
   "execution_count": 22,
   "metadata": {
    "scrolled": false
   },
   "outputs": [
    {
     "data": {
      "text/plain": [
       "array([[9.97117884e-01, 2.88211554e-03],\n",
       "       [9.95334221e-01, 4.66577929e-03],\n",
       "       [9.99860889e-01, 1.39110635e-04],\n",
       "       [9.97699595e-01, 2.30040460e-03],\n",
       "       [9.99634518e-01, 3.65481656e-04],\n",
       "       [9.99043618e-01, 9.56382448e-04],\n",
       "       [2.79904115e-03, 9.97200959e-01],\n",
       "       [9.99026897e-01, 9.73103080e-04],\n",
       "       [9.33336333e-01, 6.66636668e-02],\n",
       "       [9.99464221e-01, 5.35778541e-04],\n",
       "       [8.93497133e-03, 9.91065029e-01],\n",
       "       [9.57162834e-01, 4.28371664e-02],\n",
       "       [1.54609949e-01, 8.45390051e-01],\n",
       "       [9.98638756e-01, 1.36124411e-03],\n",
       "       [9.11830111e-01, 8.81698888e-02],\n",
       "       [9.99686066e-01, 3.13933548e-04],\n",
       "       [9.39695786e-01, 6.03042137e-02],\n",
       "       [9.99734687e-01, 2.65313401e-04],\n",
       "       [9.99421021e-01, 5.78978925e-04],\n",
       "       [9.99475392e-01, 5.24607746e-04],\n",
       "       [8.74667951e-01, 1.25332049e-01],\n",
       "       [9.99923819e-01, 7.61806157e-05],\n",
       "       [9.99914240e-01, 8.57600530e-05],\n",
       "       [1.32938166e-01, 8.67061834e-01],\n",
       "       [9.99389655e-01, 6.10344912e-04],\n",
       "       [9.96294033e-01, 3.70596692e-03],\n",
       "       [9.68303628e-01, 3.16963718e-02],\n",
       "       [6.44932527e-01, 3.55067473e-01],\n",
       "       [9.99202965e-01, 7.97034531e-04],\n",
       "       [9.91969991e-01, 8.03000867e-03],\n",
       "       [5.26027182e-02, 9.47397282e-01],\n",
       "       [9.78548775e-01, 2.14512246e-02],\n",
       "       [7.85716855e-01, 2.14283145e-01],\n",
       "       [9.99440848e-01, 5.59151712e-04],\n",
       "       [1.84114026e-02, 9.81588597e-01],\n",
       "       [9.99939580e-01, 6.04199292e-05],\n",
       "       [3.46061366e-02, 9.65393863e-01],\n",
       "       [9.97603667e-01, 2.39633260e-03],\n",
       "       [3.36766028e-02, 9.66323397e-01],\n",
       "       [6.87798140e-04, 9.99312202e-01],\n",
       "       [7.47568303e-02, 9.25243170e-01],\n",
       "       [9.98872815e-01, 1.12718485e-03],\n",
       "       [9.99946481e-01, 5.35187366e-05],\n",
       "       [9.98255349e-01, 1.74465054e-03],\n",
       "       [3.29209192e-02, 9.67079081e-01],\n",
       "       [1.18210370e-03, 9.98817896e-01],\n",
       "       [7.18748221e-01, 2.81251779e-01],\n",
       "       [9.99845177e-01, 1.54823217e-04],\n",
       "       [9.96268276e-01, 3.73172409e-03],\n",
       "       [9.99698730e-01, 3.01269772e-04],\n",
       "       [1.86877727e-02, 9.81312227e-01],\n",
       "       [9.90285040e-01, 9.71495990e-03],\n",
       "       [9.92803467e-01, 7.19653335e-03],\n",
       "       [9.99829444e-01, 1.70555661e-04],\n",
       "       [9.95988905e-01, 4.01109500e-03],\n",
       "       [6.64782501e-01, 3.35217499e-01],\n",
       "       [7.81067333e-01, 2.18932667e-01],\n",
       "       [9.58126777e-01, 4.18732229e-02],\n",
       "       [9.80886004e-01, 1.91139961e-02],\n",
       "       [9.88976437e-01, 1.10235630e-02],\n",
       "       [5.08096802e-04, 9.99491903e-01],\n",
       "       [9.65190277e-01, 3.48097227e-02],\n",
       "       [9.94391017e-01, 5.60898326e-03],\n",
       "       [9.91115035e-01, 8.88496513e-03],\n",
       "       [9.97987046e-01, 2.01295433e-03],\n",
       "       [9.98877025e-01, 1.12297483e-03],\n",
       "       [9.98619132e-01, 1.38086771e-03],\n",
       "       [9.99577297e-01, 4.22703263e-04],\n",
       "       [8.69364856e-01, 1.30635144e-01],\n",
       "       [1.77849349e-03, 9.98221507e-01],\n",
       "       [9.92639607e-01, 7.36039326e-03],\n",
       "       [2.22769863e-02, 9.77723014e-01],\n",
       "       [9.85080455e-01, 1.49195447e-02],\n",
       "       [9.98308746e-01, 1.69125415e-03],\n",
       "       [9.90409685e-01, 9.59031468e-03],\n",
       "       [9.97815854e-01, 2.18414635e-03],\n",
       "       [5.70340903e-02, 9.42965910e-01],\n",
       "       [8.78103578e-02, 9.12189642e-01],\n",
       "       [9.90252697e-01, 9.74730250e-03],\n",
       "       [9.08639998e-01, 9.13600018e-02],\n",
       "       [9.97724903e-01, 2.27509737e-03],\n",
       "       [9.74164263e-01, 2.58357373e-02],\n",
       "       [3.73858801e-02, 9.62614120e-01],\n",
       "       [9.99968503e-01, 3.14965465e-05],\n",
       "       [2.79977832e-02, 9.72002217e-01],\n",
       "       [9.99948663e-01, 5.13369228e-05],\n",
       "       [9.96166649e-01, 3.83335139e-03],\n",
       "       [9.70241350e-01, 2.97586495e-02],\n",
       "       [4.64359395e-01, 5.35640605e-01],\n",
       "       [6.98985361e-01, 3.01014639e-01],\n",
       "       [9.98403685e-01, 1.59631517e-03],\n",
       "       [9.95864937e-01, 4.13506314e-03],\n",
       "       [9.99627936e-01, 3.72063574e-04],\n",
       "       [9.99798972e-01, 2.01027597e-04],\n",
       "       [9.26830511e-01, 7.31694893e-02],\n",
       "       [7.51279580e-01, 2.48720420e-01],\n",
       "       [9.58903341e-01, 4.10966594e-02],\n",
       "       [8.20944973e-03, 9.91790550e-01],\n",
       "       [9.97909484e-01, 2.09051572e-03],\n",
       "       [8.79810234e-01, 1.20189766e-01],\n",
       "       [1.36110371e-03, 9.98638896e-01],\n",
       "       [6.03539548e-01, 3.96460452e-01],\n",
       "       [1.16766299e-03, 9.98832337e-01],\n",
       "       [9.98234308e-01, 1.76569208e-03],\n",
       "       [9.99872221e-01, 1.27779431e-04],\n",
       "       [9.99951396e-01, 4.86036436e-05],\n",
       "       [9.99959794e-01, 4.02062391e-05],\n",
       "       [9.92984060e-01, 7.01594026e-03],\n",
       "       [9.90366560e-01, 9.63343993e-03],\n",
       "       [5.43354301e-01, 4.56645699e-01],\n",
       "       [9.99945471e-01, 5.45287901e-05],\n",
       "       [9.99898121e-01, 1.01879047e-04],\n",
       "       [9.96012374e-01, 3.98762631e-03],\n",
       "       [9.94662338e-01, 5.33766214e-03],\n",
       "       [9.99880738e-01, 1.19261985e-04],\n",
       "       [9.99107642e-01, 8.92357931e-04],\n",
       "       [5.05455299e-01, 4.94544701e-01],\n",
       "       [9.56881831e-01, 4.31181689e-02],\n",
       "       [9.91499000e-01, 8.50100049e-03],\n",
       "       [9.36359609e-01, 6.36403911e-02],\n",
       "       [9.99296094e-01, 7.03906113e-04],\n",
       "       [9.24386735e-01, 7.56132650e-02],\n",
       "       [8.49025587e-01, 1.50974413e-01],\n",
       "       [9.99933095e-01, 6.69052338e-05],\n",
       "       [9.94641552e-01, 5.35844823e-03],\n",
       "       [9.97674330e-01, 2.32566984e-03],\n",
       "       [9.99712018e-01, 2.87981986e-04],\n",
       "       [9.99533780e-01, 4.66219686e-04],\n",
       "       [9.18804836e-01, 8.11951638e-02],\n",
       "       [9.99939968e-01, 6.00318905e-05]])"
      ]
     },
     "execution_count": 22,
     "metadata": {},
     "output_type": "execute_result"
    }
   ],
   "source": [
    "#find probability \n",
    "y_score = logreg.predict_proba(X_test_scaled)\n",
    "y_score"
   ]
  },
  {
   "cell_type": "code",
   "execution_count": 23,
   "metadata": {},
   "outputs": [
    {
     "data": {
      "text/plain": [
       "array([2.88211554e-03, 4.66577929e-03, 1.39110635e-04, 2.30040460e-03,\n",
       "       3.65481656e-04, 9.56382448e-04, 9.97200959e-01, 9.73103080e-04,\n",
       "       6.66636668e-02, 5.35778541e-04, 9.91065029e-01, 4.28371664e-02,\n",
       "       8.45390051e-01, 1.36124411e-03, 8.81698888e-02, 3.13933548e-04,\n",
       "       6.03042137e-02, 2.65313401e-04, 5.78978925e-04, 5.24607746e-04,\n",
       "       1.25332049e-01, 7.61806157e-05, 8.57600530e-05, 8.67061834e-01,\n",
       "       6.10344912e-04, 3.70596692e-03, 3.16963718e-02, 3.55067473e-01,\n",
       "       7.97034531e-04, 8.03000867e-03, 9.47397282e-01, 2.14512246e-02,\n",
       "       2.14283145e-01, 5.59151712e-04, 9.81588597e-01, 6.04199292e-05,\n",
       "       9.65393863e-01, 2.39633260e-03, 9.66323397e-01, 9.99312202e-01,\n",
       "       9.25243170e-01, 1.12718485e-03, 5.35187366e-05, 1.74465054e-03,\n",
       "       9.67079081e-01, 9.98817896e-01, 2.81251779e-01, 1.54823217e-04,\n",
       "       3.73172409e-03, 3.01269772e-04, 9.81312227e-01, 9.71495990e-03,\n",
       "       7.19653335e-03, 1.70555661e-04, 4.01109500e-03, 3.35217499e-01,\n",
       "       2.18932667e-01, 4.18732229e-02, 1.91139961e-02, 1.10235630e-02,\n",
       "       9.99491903e-01, 3.48097227e-02, 5.60898326e-03, 8.88496513e-03,\n",
       "       2.01295433e-03, 1.12297483e-03, 1.38086771e-03, 4.22703263e-04,\n",
       "       1.30635144e-01, 9.98221507e-01, 7.36039326e-03, 9.77723014e-01,\n",
       "       1.49195447e-02, 1.69125415e-03, 9.59031468e-03, 2.18414635e-03,\n",
       "       9.42965910e-01, 9.12189642e-01, 9.74730250e-03, 9.13600018e-02,\n",
       "       2.27509737e-03, 2.58357373e-02, 9.62614120e-01, 3.14965465e-05,\n",
       "       9.72002217e-01, 5.13369228e-05, 3.83335139e-03, 2.97586495e-02,\n",
       "       5.35640605e-01, 3.01014639e-01, 1.59631517e-03, 4.13506314e-03,\n",
       "       3.72063574e-04, 2.01027597e-04, 7.31694893e-02, 2.48720420e-01,\n",
       "       4.10966594e-02, 9.91790550e-01, 2.09051572e-03, 1.20189766e-01,\n",
       "       9.98638896e-01, 3.96460452e-01, 9.98832337e-01, 1.76569208e-03,\n",
       "       1.27779431e-04, 4.86036436e-05, 4.02062391e-05, 7.01594026e-03,\n",
       "       9.63343993e-03, 4.56645699e-01, 5.45287901e-05, 1.01879047e-04,\n",
       "       3.98762631e-03, 5.33766214e-03, 1.19261985e-04, 8.92357931e-04,\n",
       "       4.94544701e-01, 4.31181689e-02, 8.50100049e-03, 6.36403911e-02,\n",
       "       7.03906113e-04, 7.56132650e-02, 1.50974413e-01, 6.69052338e-05,\n",
       "       5.35844823e-03, 2.32566984e-03, 2.87981986e-04, 4.66219686e-04,\n",
       "       8.11951638e-02, 6.00318905e-05])"
      ]
     },
     "execution_count": 23,
     "metadata": {},
     "output_type": "execute_result"
    }
   ],
   "source": [
    "#pick the 2nd one in each row - probability that its a member of the 1 class; starts with 2.88\n",
    "y_score = logreg.predict_proba(X_test_scaled)[:, 1]\n",
    "y_score"
   ]
  },
  {
   "cell_type": "code",
   "execution_count": 24,
   "metadata": {},
   "outputs": [
    {
     "data": {
      "text/plain": [
       "0.9811862244897959"
      ]
     },
     "execution_count": 24,
     "metadata": {},
     "output_type": "execute_result"
    }
   ],
   "source": [
    "# Calculate roc-auc\n",
    "roc_auc_score(y_test, y_score)"
   ]
  },
  {
   "cell_type": "code",
   "execution_count": 25,
   "metadata": {
    "scrolled": true
   },
   "outputs": [
    {
     "data": {
      "text/plain": [
       "<sklearn.metrics._plot.roc_curve.RocCurveDisplay at 0x24a61457700>"
      ]
     },
     "execution_count": 25,
     "metadata": {},
     "output_type": "execute_result"
    },
    {
     "data": {
      "image/png": "[encoded data removed]",
      "text/plain": [
       "<Figure size 432x288 with 1 Axes>"
      ]
     },
     "metadata": {
      "needs_background": "light"
     },
     "output_type": "display_data"
    }
   ],
   "source": [
    "# Plot the ROC curve\n",
    "plot_roc_curve(logreg, X_test_scaled, y_test)"
   ]
  },
  {
   "cell_type": "code",
   "execution_count": null,
   "metadata": {},
   "outputs": [],
   "source": [
    "# 1 is perfect score, zero is bad score\n",
    "# tells us the false postive rate ()"
   ]
  },
  {
   "cell_type": "markdown",
   "metadata": {},
   "source": [
    "### 12) Evaluate! Based on the metrics of our test data, how is our model doing?"
   ]
  },
  {
   "cell_type": "code",
   "execution_count": null,
   "metadata": {},
   "outputs": [],
   "source": [
    "# call_on_students(1)"
   ]
  },
  {
   "cell_type": "code",
   "execution_count": 27,
   "metadata": {
    "scrolled": true
   },
   "outputs": [
    {
     "name": "stdout",
     "output_type": "stream",
     "text": [
      "              precision    recall  f1-score   support\n",
      "\n",
      "           0       0.92      0.99      0.95        98\n",
      "           1       0.96      0.72      0.82        32\n",
      "\n",
      "    accuracy                           0.92       130\n",
      "   macro avg       0.94      0.85      0.89       130\n",
      "weighted avg       0.93      0.92      0.92       130\n",
      "\n"
     ]
    }
   ],
   "source": [
    "print(classification_report(y_test, y_pred))\n",
    "#macro avg is what to look at - want as high as possible (but less than 1 which would mean overfitting )"
   ]
  },
  {
   "cell_type": "markdown",
   "metadata": {},
   "source": [
    "#### Answer:\n",
    "\n",
    "- model looks good based on all the metrics (roc, accuracy, recall, precision, etc)\n"
   ]
  },
  {
   "cell_type": "code",
   "execution_count": null,
   "metadata": {},
   "outputs": [],
   "source": []
  },
  {
   "cell_type": "markdown",
   "metadata": {},
   "source": [
    "## Part 4: Decision Trees\n",
    "\n",
    "### Set Up - Generating 1-split trees to compare"
   ]
  },
  {
   "cell_type": "code",
   "execution_count": 28,
   "metadata": {
    "scrolled": true
   },
   "outputs": [
    {
     "data": {
      "text/plain": [
       "DecisionTreeClassifier(max_depth=1, random_state=42)"
      ]
     },
     "execution_count": 28,
     "metadata": {},
     "output_type": "execute_result"
    }
   ],
   "source": [
    "# Creating two different decision trees with a single split\n",
    "dt_maxdepth1_v1 = DecisionTreeClassifier(max_depth=1, random_state = 42)\n",
    "dt_maxdepth1_v2 = DecisionTreeClassifier(max_depth=1, random_state = 42)\n",
    "\n",
    "# Training the two trees on different columns\n",
    "dt_maxdepth1_v1.fit(X_train[['weight']], y_train)\n",
    "dt_maxdepth1_v2.fit(X_train[['origin']], y_train)"
   ]
  },
  {
   "cell_type": "code",
   "execution_count": 29,
   "metadata": {
    "scrolled": false
   },
   "outputs": [
    {
     "data": {
      "image/png": "[encoded data removed]",
      "text/plain": [
       "<Figure size 432x288 with 1 Axes>"
      ]
     },
     "metadata": {
      "needs_background": "light"
     },
     "output_type": "display_data"
    }
   ],
   "source": [
    "# Tree based on 1st column\n",
    "plot_tree(dt_maxdepth1_v1, feature_names=['weight'], filled=True);"
   ]
  },
  {
   "cell_type": "code",
   "execution_count": 30,
   "metadata": {},
   "outputs": [
    {
     "data": {
      "image/png": "[encoded data removed]",
      "text/plain": [
       "<Figure size 432x288 with 1 Axes>"
      ]
     },
     "metadata": {
      "needs_background": "light"
     },
     "output_type": "display_data"
    }
   ],
   "source": [
    "# Tree based on 2nd column\n",
    "plot_tree(dt_maxdepth1_v2, feature_names=['origin'], filled=True);"
   ]
  },
  {
   "cell_type": "markdown",
   "metadata": {},
   "source": [
    "#### Result: \n",
    "\n",
    "(showing the image output incase there is a problem with the above code to generate and visualize these trees)\n",
    "\n",
    "| Version 1: Weight | Version 2: Origin |\n",
    "| ----------------- | ----------------- |  \n",
    "| ![max depth 1 - version 1](images/dt-maxdepth1-v1.png) | ![max depth 1 - version 2](images/dt-maxdepth1-v2.png) |"
   ]
  },
  {
   "cell_type": "markdown",
   "metadata": {},
   "source": [
    "### 13) Which of these trees does a better job splitting the data? How can you tell?"
   ]
  },
  {
   "cell_type": "code",
   "execution_count": null,
   "metadata": {},
   "outputs": [],
   "source": [
    "# call_on_students(1)"
   ]
  },
  {
   "cell_type": "markdown",
   "metadata": {},
   "source": [
    "#### Answer:\n",
    "\n",
    "- lower gini value means less disorder, which is good; tree 1 has lower gini scores\n"
   ]
  },
  {
   "cell_type": "markdown",
   "metadata": {},
   "source": [
    "### 14) Fit a decision tree model, and plot a confusion matrix of the results on our test set"
   ]
  },
  {
   "cell_type": "code",
   "execution_count": null,
   "metadata": {},
   "outputs": [],
   "source": [
    "# call_on_students(1)"
   ]
  },
  {
   "cell_type": "code",
   "execution_count": 31,
   "metadata": {},
   "outputs": [],
   "source": [
    "# Fit a decision tree model\n",
    "# Name the model `dt` and set random_state = 42\n",
    "dt = DecisionTreeClassifier(random_state=42)"
   ]
  },
  {
   "cell_type": "code",
   "execution_count": 32,
   "metadata": {},
   "outputs": [
    {
     "data": {
      "text/plain": [
       "DecisionTreeClassifier(random_state=42)"
      ]
     },
     "execution_count": 32,
     "metadata": {},
     "output_type": "execute_result"
    }
   ],
   "source": [
    "dt.fit(X_train, y_train)"
   ]
  },
  {
   "cell_type": "code",
   "execution_count": 33,
   "metadata": {
    "scrolled": true
   },
   "outputs": [
    {
     "data": {
      "text/plain": [
       "<sklearn.metrics._plot.confusion_matrix.ConfusionMatrixDisplay at 0x24a615dc7c0>"
      ]
     },
     "execution_count": 33,
     "metadata": {},
     "output_type": "execute_result"
    },
    {
     "data": {
      "image/png": "[encoded data removed]",
      "text/plain": [
       "<Figure size 432x288 with 2 Axes>"
      ]
     },
     "metadata": {
      "needs_background": "light"
     },
     "output_type": "display_data"
    }
   ],
   "source": [
    "# Plot a confusion matrix on the test data\n",
    "plot_confusion_matrix(dt, X_test, y_test)"
   ]
  },
  {
   "cell_type": "code",
   "execution_count": null,
   "metadata": {},
   "outputs": [],
   "source": [
    "# with decision tree, no need to use scaled data\n",
    "# with KNN, you do need to scale"
   ]
  },
  {
   "cell_type": "code",
   "execution_count": 34,
   "metadata": {},
   "outputs": [
    {
     "data": {
      "image/png": "[encoded data removed]",
      "text/plain": [
       "<Figure size 432x288 with 1 Axes>"
      ]
     },
     "metadata": {
      "needs_background": "light"
     },
     "output_type": "display_data"
    }
   ],
   "source": [
    "# Code to visualize the ROC curves for the models we've done\n",
    "fig, ax = plt.subplots()\n",
    "plot_roc_curve(dt, X_test, y_test, ax=ax)\n",
    "plot_roc_curve(logreg, X_test_scaled, y_test, ax=ax)\n",
    "\n",
    "plt.title(\"Receiver Operating Characteristic Curves\\n(Evaluated on Test Set)\")\n",
    "plt.show()"
   ]
  },
  {
   "cell_type": "markdown",
   "metadata": {},
   "source": [
    "### 15) Which is the better model according to ROC-AUC score? How can you tell?"
   ]
  },
  {
   "cell_type": "code",
   "execution_count": null,
   "metadata": {},
   "outputs": [],
   "source": [
    "# call_on_students(1)"
   ]
  },
  {
   "cell_type": "markdown",
   "metadata": {},
   "source": [
    "#### Answer:\n",
    "\n",
    "- logsitic bc it has a higher AUC-ROC score(.98) (area under the curve showing relationship between false pos and true pos)\n",
    " - the .98 tells you area under the curve\n"
   ]
  }
 ],
 "metadata": {
  "kernelspec": {
   "display_name": "Python (learn-env)",
   "language": "python",
   "name": "learn-env"
  },
  "language_info": {
   "codemirror_mode": {
    "name": "ipython",
    "version": 3
   },
   "file_extension": ".py",
   "mimetype": "text/x-python",
   "name": "python",
   "nbconvert_exporter": "python",
   "pygments_lexer": "ipython3",
   "version": "3.8.5"
  },
  "toc": {
   "base_numbering": 1,
   "nav_menu": {},
   "number_sections": true,
   "sideBar": true,
   "skip_h1_title": false,
   "title_cell": "Table of Contents",
   "title_sidebar": "Contents",
   "toc_cell": false,
   "toc_position": {},
   "toc_section_display": true,
   "toc_window_display": false
  },
  "varInspector": {
   "cols": {
    "lenName": 16,
    "lenType": 16,
    "lenVar": 40
   },
   "kernels_config": {
    "python": {
     "delete_cmd_postfix": "",
     "delete_cmd_prefix": "del ",
     "library": "var_list.py",
     "varRefreshCmd": "print(var_dic_list())"
    },
    "r": {
     "delete_cmd_postfix": ") ",
     "delete_cmd_prefix": "rm(",
     "library": "var_list.r",
     "varRefreshCmd": "cat(var_dic_list()) "
    }
   },
   "types_to_exclude": [
    "module",
    "function",
    "builtin_function_or_method",
    "instance",
    "_Feature"
   ],
   "window_display": false
  }
 },
 "nbformat": 4,
 "nbformat_minor": 2
}
